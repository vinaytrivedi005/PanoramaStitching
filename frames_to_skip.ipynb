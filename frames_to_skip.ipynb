{
 "cells": [
  {
   "cell_type": "code",
   "execution_count": 10,
   "metadata": {},
   "outputs": [],
   "source": [
    "import math\n",
    "\n",
    "def frames_to_skip(distance, fps, coverage_angle, speed, overlap_percentage):\n",
    "    \"\"\"\n",
    "    This function calculates number of frames to skip while doing panorama stitching from video input.\n",
    "    \n",
    "    Arguments :\n",
    "    \n",
    "    distance           : distance of camera from shelf in meters\n",
    "    fps                : frames per second of camera\n",
    "    coverage_angle     : coverage angle of camera in degrees\n",
    "    speed              : moving speed of camera parallel to shelf in meters per second\n",
    "    overlap_percentage : percentage of image to be skipped before taking next frame\n",
    "    \n",
    "    Usage :\n",
    "    \n",
    "    distance            = 1 m\n",
    "    fps                 = 30 fps\n",
    "    coverage_angle      = 90 degrees\n",
    "    speed               = 0.5 m/s\n",
    "    overlap_percentage  = 80\n",
    "    \n",
    "    x = frames_to_skip(distance, fps, coverage_angle, speed, overlap_percentage)\n",
    "    x = 9\n",
    "    \"\"\"\n",
    "    area = 2 * distance * (math.tan(math.radians(coverage_angle/2)))\n",
    "    to_skip_area = area * (overlap_percentage/100)\n",
    "    skip_frames = fps * speed / to_skip_area\n",
    "    return math.floor(skip_frames)"
   ]
  },
  {
   "cell_type": "code",
   "execution_count": 11,
   "metadata": {},
   "outputs": [
    {
     "data": {
      "text/plain": [
       "9"
      ]
     },
     "execution_count": 11,
     "metadata": {},
     "output_type": "execute_result"
    }
   ],
   "source": [
    "frames_to_skip(1, 30, 90, 0.5, 80)"
   ]
  },
  {
   "cell_type": "code",
   "execution_count": null,
   "metadata": {},
   "outputs": [],
   "source": []
  }
 ],
 "metadata": {
  "kernelspec": {
   "display_name": "Python [conda env:default]",
   "language": "python",
   "name": "conda-env-default-py"
  },
  "language_info": {
   "codemirror_mode": {
    "name": "ipython",
    "version": 3
   },
   "file_extension": ".py",
   "mimetype": "text/x-python",
   "name": "python",
   "nbconvert_exporter": "python",
   "pygments_lexer": "ipython3",
   "version": "3.6.6"
  }
 },
 "nbformat": 4,
 "nbformat_minor": 2
}
